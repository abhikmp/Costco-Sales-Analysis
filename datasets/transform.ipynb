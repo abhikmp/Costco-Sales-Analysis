{
 "cells": [
  {
   "cell_type": "code",
   "execution_count": 1,
   "id": "0c2654c1-80a7-400b-b8ac-2a5053cffb35",
   "metadata": {},
   "outputs": [],
   "source": [
    "import pandas as pd\n",
    "import csv\n",
    "import re"
   ]
  },
  {
   "cell_type": "code",
   "execution_count": 3,
   "id": "9206e0b0-9a39-4f9f-a905-f9aee38d13a0",
   "metadata": {},
   "outputs": [],
   "source": [
    "df = pd.read_csv(\"products.csv\", dtype=object, encoding='windows-1252')"
   ]
  },
  {
   "cell_type": "code",
   "execution_count": 5,
   "id": "4a281be9-9c34-4250-bb48-c7858a4790fa",
   "metadata": {},
   "outputs": [],
   "source": [
    "df.columns = df.columns.str.replace('-','_')"
   ]
  },
  {
   "cell_type": "code",
   "execution_count": 8,
   "id": "4bfaf028-cfc4-4b3a-9505-11f5a5c1e633",
   "metadata": {},
   "outputs": [],
   "source": [
    "df.to_csv(\"products_updated.csv\", index=False, quoting=csv.QUOTE_ALL, encoding='utf-8')"
   ]
  },
  {
   "cell_type": "code",
   "execution_count": 9,
   "id": "5507f21f-db1b-48c7-8305-579518643482",
   "metadata": {},
   "outputs": [],
   "source": [
    "df1 = pd.read_csv(\"products_updated.csv\", dtype='str')"
   ]
  },
  {
   "cell_type": "code",
   "execution_count": null,
   "id": "79069f0d-6cc0-487b-ba95-fd51543bd6e2",
   "metadata": {},
   "outputs": [],
   "source": []
  }
 ],
 "metadata": {
  "kernelspec": {
   "display_name": "Python 3 (ipykernel)",
   "language": "python",
   "name": "python3"
  },
  "language_info": {
   "codemirror_mode": {
    "name": "ipython",
    "version": 3
   },
   "file_extension": ".py",
   "mimetype": "text/x-python",
   "name": "python",
   "nbconvert_exporter": "python",
   "pygments_lexer": "ipython3",
   "version": "3.13.0"
  }
 },
 "nbformat": 4,
 "nbformat_minor": 5
}
